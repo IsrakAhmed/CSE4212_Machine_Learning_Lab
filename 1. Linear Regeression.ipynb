{
 "cells": [
  {
   "cell_type": "markdown",
   "id": "621871d7",
   "metadata": {},
   "source": [
    "## Linear models make a prediction using a linear function of the input features.\n",
    "\n",
    "### Linear models for regression:\n",
    "For regression, the general prediction formula for a linear model looks as follows:\n",
    "\n",
    "$$\n",
    "\\hat{y} = w_0\\,x_0 + w_1\\,x_1 + \\dots + w_p\\,x_p + b\n",
    "$$\n",
    "\n",
    "Here, \\(x_0\\) to \\(x_p\\) denote the features (in this example, the number of features is \\(p\\)) of a single data point. The parameters \\(w\\) (weights) and \\(b\\) (bias) are learned during training, and ŷ is the model’s prediction.\n",
    "\n",
    "For a dataset with a single feature, the formula simplifies to:\n",
    "\n",
    "$$\n",
    "\\hat{y} = w_0\\,x_0 + b\n",
    "$$\n",
    "\n",
    "In this case, \\(w_0\\) is the slope and \\(b\\) is the y‑axis offset. For multiple features, each \\(w_i\\) represents the slope along the \\(i\\)-th feature axis, so you can think of the predicted response as a (possibly negative) weighted sum of the input features."
   ]
  },
  {
   "cell_type": "code",
   "execution_count": 2,
   "id": "bd5d71e2",
   "metadata": {},
   "outputs": [],
   "source": [
    "from sklearn.linear_model import LinearRegression\n",
    "from sklearn.model_selection import train_test_split\n",
    "import mglearn\n",
    "\n",
    "X, y = mglearn.datasets.make_wave(n_samples=100)\n",
    "X_train, X_test, y_train, y_test = train_test_split(X, y, random_state=42)\n",
    "\n",
    "lr = LinearRegression().fit(X_train, y_train)"
   ]
  },
  {
   "cell_type": "code",
   "execution_count": 5,
   "id": "15bd17c8",
   "metadata": {},
   "outputs": [
    {
     "name": "stdout",
     "output_type": "stream",
     "text": [
      "(75, 1) (25, 1) (75,) (25,)\n"
     ]
    }
   ],
   "source": [
    "print(X_train.shape, X_test.shape, y_train.shape, y_test.shape)"
   ]
  },
  {
   "cell_type": "markdown",
   "id": "4eef0656",
   "metadata": {},
   "source": [
    "<strong>lr.coef_</strong>:\n",
    "This is the coefficient(s) (also called weights) of the features in the model.<br>\n",
    "\n",
    "It tells you how much the target value changes with a unit change in the input feature, assuming all other factors are constant.<br><br><br>\n",
    "\n",
    "<strong>lr.intercept_</strong>:\n",
    "\n",
    "This is the bias term (also called the y-intercept, b in the equation).<br>\n",
    "\n",
    "It represents the value of y when all x = 0."
   ]
  },
  {
   "cell_type": "code",
   "execution_count": 6,
   "id": "c26d6976",
   "metadata": {},
   "outputs": [
    {
     "name": "stdout",
     "output_type": "stream",
     "text": [
      "lr.coef_:  [0.40443939]\n",
      "lr.intercept_:  -0.02256802817336538\n"
     ]
    }
   ],
   "source": [
    "print(\"lr.coef_: \", lr.coef_)               # Weight (slope)\n",
    "print(\"lr.intercept_: \", lr.intercept_)     # Bias (intercept)"
   ]
  },
  {
   "cell_type": "code",
   "execution_count": 7,
   "id": "f649adce",
   "metadata": {},
   "outputs": [
    {
     "name": "stdout",
     "output_type": "stream",
     "text": [
      "Training set score: 0.59\n",
      "Test set score: 0.66\n"
     ]
    }
   ],
   "source": [
    "print(\"Training set score: {:.2f}\".format(lr.score(X_train, y_train)))\n",
    "\n",
    "print(\"Test set score: {:.2f}\".format(lr.score(X_test, y_test)))"
   ]
  },
  {
   "cell_type": "markdown",
   "id": "0f6f0d3b",
   "metadata": {},
   "source": [
    "## Overfitting Example"
   ]
  },
  {
   "cell_type": "code",
   "execution_count": 8,
   "id": "fe12921a",
   "metadata": {},
   "outputs": [
    {
     "name": "stdout",
     "output_type": "stream",
     "text": [
      "Training set score: 0.95\n",
      "Test set score: 0.61\n"
     ]
    }
   ],
   "source": [
    "X, y = mglearn.datasets.load_extended_boston()\n",
    "\n",
    "X_train, X_test, y_train, y_test = train_test_split(X, y, random_state=0)\n",
    "\n",
    "lr = LinearRegression().fit(X_train, y_train)\n",
    "\n",
    "print(\"Training set score: {:.2f}\".format(lr.score(X_train, y_train)))\n",
    "print(\"Test set score: {:.2f}\".format(lr.score(X_test, y_test)))"
   ]
  }
 ],
 "metadata": {
  "kernelspec": {
   "display_name": "Python 3",
   "language": "python",
   "name": "python3"
  },
  "language_info": {
   "codemirror_mode": {
    "name": "ipython",
    "version": 3
   },
   "file_extension": ".py",
   "mimetype": "text/x-python",
   "name": "python",
   "nbconvert_exporter": "python",
   "pygments_lexer": "ipython3",
   "version": "3.11.5"
  }
 },
 "nbformat": 4,
 "nbformat_minor": 5
}

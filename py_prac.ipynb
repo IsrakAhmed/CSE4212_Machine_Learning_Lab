{
 "cells": [
  {
   "cell_type": "markdown",
   "id": "9fd82b7d",
   "metadata": {},
   "source": [
    "## NumPy\n",
    "\n",
    "NumPy is one of the fundamental packages for scientific computing in Python. It\n",
    "contains functionality for multidimensional arrays, high-level mathematical func\n",
    "tions such as linear algebra operations and the Fourier transform, and pseudorandom\n",
    "number generators.<br>\n",
    "In scikit-learn, the NumPy array is the fundamental data \n",
    "structure. scikit-learn takes in data in the form of NumPy arrays. Any data you’re \n",
    "using will have to be converted to a NumPy array. The core functionality of NumPy\n",
    "is the ndarray class, a multidimensional (n-dimensional) array. All elements of\n",
    "the array must be of the same type."
   ]
  },
  {
   "cell_type": "code",
   "execution_count": 5,
   "id": "aa63961d",
   "metadata": {},
   "outputs": [
    {
     "name": "stdout",
     "output_type": "stream",
     "text": [
      "x:\n",
      "[[1 2 3]\n",
      " [4 5 6]]\n"
     ]
    }
   ],
   "source": [
    "import numpy as np\n",
    "\n",
    "x = np.array([[1, 2, 3], [4, 5, 6]])\n",
    "\n",
    "print(\"x:\\n{}\".format(x))"
   ]
  },
  {
   "cell_type": "markdown",
   "id": "7efc8bb6",
   "metadata": {},
   "source": [
    "## SciPy\n",
    "\n",
    "SciPy is a collection of functions for scientific computing in Python. It provides,\n",
    "among other functionality, advanced linear algebra routines, mathematical function\n",
    "optimization, signal processing, special mathematical functions, and statistical\n",
    "distributions. scikit-learn draws from SciPy’s collection of functions for implementing\n",
    "its algorithms. The most important part of SciPy for us is scipy.sparse: this provides\n",
    "sparse matrices, which are another representation that is used for data in scikit\n",
    "learn. Sparse matrices are used whenever we want to store a 2D array that contains\n",
    "mostly zeros"
   ]
  },
  {
   "cell_type": "code",
   "execution_count": 6,
   "id": "013d89c2",
   "metadata": {},
   "outputs": [
    {
     "name": "stdout",
     "output_type": "stream",
     "text": [
      "Numpy array:\n",
      "[[1. 0. 0. 0.]\n",
      " [0. 1. 0. 0.]\n",
      " [0. 0. 1. 0.]\n",
      " [0. 0. 0. 1.]]\n"
     ]
    }
   ],
   "source": [
    "from scipy import sparse\n",
    "import numpy as np\n",
    "\n",
    "eye = np.eye(4)\n",
    "print(\"Numpy array:\\n{}\".format(eye))"
   ]
  }
 ],
 "metadata": {
  "kernelspec": {
   "display_name": "Python 3",
   "language": "python",
   "name": "python3"
  },
  "language_info": {
   "codemirror_mode": {
    "name": "ipython",
    "version": 3
   },
   "file_extension": ".py",
   "mimetype": "text/x-python",
   "name": "python",
   "nbconvert_exporter": "python",
   "pygments_lexer": "ipython3",
   "version": "3.11.5"
  }
 },
 "nbformat": 4,
 "nbformat_minor": 5
}

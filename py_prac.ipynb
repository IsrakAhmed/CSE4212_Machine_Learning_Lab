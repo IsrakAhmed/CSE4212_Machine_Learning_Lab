{
 "cells": [
  {
   "cell_type": "markdown",
   "id": "9fd82b7d",
   "metadata": {},
   "source": [
    "## NumPy\n",
    "\n",
    "NumPy is one of the fundamental packages for scientific computing in Python. It\n",
    "contains functionality for multidimensional arrays, high-level mathematical func\n",
    "tions such as linear algebra operations and the Fourier transform, and pseudorandom\n",
    "number generators.<br>\n",
    "In scikit-learn, the NumPy array is the fundamental data \n",
    "structure. scikit-learn takes in data in the form of NumPy arrays. Any data you’re \n",
    "using will have to be converted to a NumPy array. The core functionality of NumPy\n",
    "is the ndarray class, a multidimensional (n-dimensional) array. All elements of\n",
    "the array must be of the same type."
   ]
  },
  {
   "cell_type": "code",
   "execution_count": 7,
   "id": "aa63961d",
   "metadata": {},
   "outputs": [
    {
     "name": "stdout",
     "output_type": "stream",
     "text": [
      "x:\n",
      "[[1 2 3]\n",
      " [4 5 6]]\n"
     ]
    }
   ],
   "source": [
    "import numpy as np\n",
    "\n",
    "x = np.array([[1, 2, 3], [4, 5, 6]])\n",
    "\n",
    "print(\"x:\\n{}\".format(x))"
   ]
  },
  {
   "cell_type": "markdown",
   "id": "7efc8bb6",
   "metadata": {},
   "source": [
    "## SciPy\n",
    "\n",
    "SciPy is a collection of functions for scientific computing in Python. It provides,\n",
    "among other functionality, advanced linear algebra routines, mathematical function\n",
    "optimization, signal processing, special mathematical functions, and statistical\n",
    "distributions. scikit-learn draws from SciPy’s collection of functions for implementing\n",
    "its algorithms. The most important part of SciPy for us is scipy.sparse: this provides\n",
    "sparse matrices, which are another representation that is used for data in scikit\n",
    "learn. Sparse matrices are used whenever we want to store a 2D array that contains\n",
    "mostly zeros"
   ]
  },
  {
   "cell_type": "code",
   "execution_count": 8,
   "id": "013d89c2",
   "metadata": {},
   "outputs": [
    {
     "name": "stdout",
     "output_type": "stream",
     "text": [
      "Numpy array:\n",
      "[[1. 0. 0. 0.]\n",
      " [0. 1. 0. 0.]\n",
      " [0. 0. 1. 0.]\n",
      " [0. 0. 0. 1.]]\n"
     ]
    }
   ],
   "source": [
    "from scipy import sparse\n",
    "import numpy as np\n",
    "\n",
    "eye = np.eye(4)\n",
    "print(\"Numpy array:\\n{}\".format(eye))"
   ]
  },
  {
   "cell_type": "markdown",
   "id": "5f6a8706",
   "metadata": {},
   "source": [
    "## Pandas\n",
    "\n",
    " pandas is a Python library for data wrangling and analysis. It is built around a data\n",
    " structure called the DataFrame that is modeled after the R DataFrame. Simply put, a\n",
    " pandas DataFrame is a table, similar to an Excel spreadsheet. pandas provides a great\n",
    " range of methods to modify and operate on this table; in particular, it allows SQL-like\n",
    " queries and joins of tables. In contrast to NumPy, which requires that all entries in an\n",
    " array be of the same type, pandas allows each column to have a separate type (for\n",
    " example, integers, dates, floating-point numbers, and strings). Another valuable tool\n",
    " provided by pandas is its ability to ingest from a great variety of file formats and data\n",
    "bases, like SQL, Excel files, and comma-separated values (CSV) files."
   ]
  },
  {
   "cell_type": "code",
   "execution_count": null,
   "id": "cdff93f1",
   "metadata": {},
   "outputs": [
    {
     "data": {
      "text/html": [
       "<div>\n",
       "<style scoped>\n",
       "    .dataframe tbody tr th:only-of-type {\n",
       "        vertical-align: middle;\n",
       "    }\n",
       "\n",
       "    .dataframe tbody tr th {\n",
       "        vertical-align: top;\n",
       "    }\n",
       "\n",
       "    .dataframe thead th {\n",
       "        text-align: right;\n",
       "    }\n",
       "</style>\n",
       "<table border=\"1\" class=\"dataframe\">\n",
       "  <thead>\n",
       "    <tr style=\"text-align: right;\">\n",
       "      <th></th>\n",
       "      <th>Name</th>\n",
       "      <th>Age</th>\n",
       "      <th>Address</th>\n",
       "    </tr>\n",
       "  </thead>\n",
       "  <tbody>\n",
       "    <tr>\n",
       "      <th>0</th>\n",
       "      <td>Alice</td>\n",
       "      <td>25</td>\n",
       "      <td>Bogura</td>\n",
       "    </tr>\n",
       "    <tr>\n",
       "      <th>1</th>\n",
       "      <td>Bob</td>\n",
       "      <td>30</td>\n",
       "      <td>Dhaka</td>\n",
       "    </tr>\n",
       "    <tr>\n",
       "      <th>2</th>\n",
       "      <td>Charlie</td>\n",
       "      <td>35</td>\n",
       "      <td>Chittagong</td>\n",
       "    </tr>\n",
       "  </tbody>\n",
       "</table>\n",
       "</div>"
      ],
      "text/plain": [
       "      Name  Age     Address\n",
       "0    Alice   25      Bogura\n",
       "1      Bob   30       Dhaka\n",
       "2  Charlie   35  Chittagong"
      ]
     },
     "metadata": {},
     "output_type": "display_data"
    }
   ],
   "source": [
    "import pandas as pd\n",
    "\n",
    "data = {\n",
    "    'Name': ['Alice', 'Bob', 'Charlie'],\n",
    "    'Age': [25, 30, 35],\n",
    "    'Address': ['Bogura', 'Dhaka', 'Chittagong']\n",
    "}\n",
    "\n",
    "data_pandas = pd.DataFrame(data)\n",
    "\n",
    "display(data_pandas)"
   ]
  }
 ],
 "metadata": {
  "kernelspec": {
   "display_name": "Python 3",
   "language": "python",
   "name": "python3"
  },
  "language_info": {
   "codemirror_mode": {
    "name": "ipython",
    "version": 3
   },
   "file_extension": ".py",
   "mimetype": "text/x-python",
   "name": "python",
   "nbconvert_exporter": "python",
   "pygments_lexer": "ipython3",
   "version": "3.11.5"
  }
 },
 "nbformat": 4,
 "nbformat_minor": 5
}
